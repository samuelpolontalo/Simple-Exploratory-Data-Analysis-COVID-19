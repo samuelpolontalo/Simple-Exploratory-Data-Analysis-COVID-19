{
  "nbformat": 4,
  "nbformat_minor": 0,
  "metadata": {
    "colab": {
      "name": "covid19asean.ipynb",
      "provenance": []
    },
    "kernelspec": {
      "display_name": "Python 3",
      "name": "python3"
    }
  },
  "cells": [
    {
      "cell_type": "markdown",
      "metadata": {
        "id": "9RLowAbzOBli"
      },
      "source": [
        "# Goals and objective\r\n",
        "Goals and objective in this project is to look at fatality rate around the world and compare total case around south east asia."
      ]
    },
    {
      "cell_type": "code",
      "metadata": {
        "id": "BWalmnqnHfTa"
      },
      "source": [
        "import json\n",
        "import numpy as np\n",
        "import pandas as pd\n",
        "import requests"
      ],
      "execution_count": 1,
      "outputs": []
    },
    {
      "cell_type": "markdown",
      "metadata": {
        "id": "m93fLi33rM4N"
      },
      "source": [
        "# Data Preparation I\r\n",
        "In this project we will use data from link: https://covid19-api.org"
      ]
    },
    {
      "cell_type": "code",
      "metadata": {
        "id": "3DiNkjqQH3rp"
      },
      "source": [
        "def get_json(api_url):\n",
        "\tresponse = requests.get(api_url)\n",
        "\tif response.status_code == 200:\n",
        "\t\treturn json.loads(response.content.decode('utf-8'))\n",
        "\telse:\n",
        "\t\treturn None"
      ],
      "execution_count": 2,
      "outputs": []
    },
    {
      "cell_type": "code",
      "metadata": {
        "colab": {
          "base_uri": "https://localhost:8080/"
        },
        "id": "6lOeHasDH64o",
        "outputId": "c4b9c0b3-3ee6-4dec-a029-a5103e49c9ad"
      },
      "source": [
        "record_date = '2020-08-17'\n",
        "covid_url = 'https://covid19-api.org/api/status?date='+record_date\n",
        "df_covid_worldwide = pd.io.json.json_normalize(get_json(covid_url))\n",
        "# Check the data\n",
        "print(df_covid_worldwide.head())"
      ],
      "execution_count": 3,
      "outputs": [
        {
          "output_type": "stream",
          "text": [
            "  country          last_update    cases  deaths  recovered\n",
            "0      US  2020-08-16T23:27:50  5401167  170019    1833067\n",
            "1      BR  2020-08-16T23:27:50  3340197  107852    2655017\n",
            "2      IN  2020-08-16T23:27:50  2589682   49980    1862258\n",
            "3      RU  2020-08-16T23:27:50   920719   15653     731444\n",
            "4      ZA  2020-08-16T23:27:50   587345   11839     472377\n"
          ],
          "name": "stdout"
        },
        {
          "output_type": "stream",
          "text": [
            "/usr/local/lib/python3.6/dist-packages/ipykernel_launcher.py:3: FutureWarning: pandas.io.json.json_normalize is deprecated, use pandas.json_normalize instead\n",
            "  This is separate from the ipykernel package so we can avoid doing imports until\n"
          ],
          "name": "stderr"
        }
      ]
    },
    {
      "cell_type": "markdown",
      "metadata": {
        "id": "9DfYXm5uuHlj"
      },
      "source": [
        "Fix the date time format."
      ]
    },
    {
      "cell_type": "code",
      "metadata": {
        "id": "qZB8unXoH9VQ"
      },
      "source": [
        "df_covid_worldwide['last_update'] = pd.to_datetime (df_covid_worldwide['last_update'], format= '%Y-%m-%d %H:%M:%S')\n",
        "df_covid_worldwide['last_update'] = df_covid_worldwide['last_update'].apply(lambda x:x)"
      ],
      "execution_count": 4,
      "outputs": []
    },
    {
      "cell_type": "code",
      "metadata": {
        "colab": {
          "base_uri": "https://localhost:8080/",
          "height": 419
        },
        "id": "e_pweu1kIBpo",
        "outputId": "96b19834-a902-47ee-8d59-c487c7ab05bf"
      },
      "source": [
        "# Check the data\r\n",
        "df_covid_worldwide"
      ],
      "execution_count": 5,
      "outputs": [
        {
          "output_type": "execute_result",
          "data": {
            "text/html": [
              "<div>\n",
              "<style scoped>\n",
              "    .dataframe tbody tr th:only-of-type {\n",
              "        vertical-align: middle;\n",
              "    }\n",
              "\n",
              "    .dataframe tbody tr th {\n",
              "        vertical-align: top;\n",
              "    }\n",
              "\n",
              "    .dataframe thead th {\n",
              "        text-align: right;\n",
              "    }\n",
              "</style>\n",
              "<table border=\"1\" class=\"dataframe\">\n",
              "  <thead>\n",
              "    <tr style=\"text-align: right;\">\n",
              "      <th></th>\n",
              "      <th>country</th>\n",
              "      <th>last_update</th>\n",
              "      <th>cases</th>\n",
              "      <th>deaths</th>\n",
              "      <th>recovered</th>\n",
              "    </tr>\n",
              "  </thead>\n",
              "  <tbody>\n",
              "    <tr>\n",
              "      <th>0</th>\n",
              "      <td>US</td>\n",
              "      <td>2020-08-16 23:27:50</td>\n",
              "      <td>5401167</td>\n",
              "      <td>170019</td>\n",
              "      <td>1833067</td>\n",
              "    </tr>\n",
              "    <tr>\n",
              "      <th>1</th>\n",
              "      <td>BR</td>\n",
              "      <td>2020-08-16 23:27:50</td>\n",
              "      <td>3340197</td>\n",
              "      <td>107852</td>\n",
              "      <td>2655017</td>\n",
              "    </tr>\n",
              "    <tr>\n",
              "      <th>2</th>\n",
              "      <td>IN</td>\n",
              "      <td>2020-08-16 23:27:50</td>\n",
              "      <td>2589682</td>\n",
              "      <td>49980</td>\n",
              "      <td>1862258</td>\n",
              "    </tr>\n",
              "    <tr>\n",
              "      <th>3</th>\n",
              "      <td>RU</td>\n",
              "      <td>2020-08-16 23:27:50</td>\n",
              "      <td>920719</td>\n",
              "      <td>15653</td>\n",
              "      <td>731444</td>\n",
              "    </tr>\n",
              "    <tr>\n",
              "      <th>4</th>\n",
              "      <td>ZA</td>\n",
              "      <td>2020-08-16 23:27:50</td>\n",
              "      <td>587345</td>\n",
              "      <td>11839</td>\n",
              "      <td>472377</td>\n",
              "    </tr>\n",
              "    <tr>\n",
              "      <th>...</th>\n",
              "      <td>...</td>\n",
              "      <td>...</td>\n",
              "      <td>...</td>\n",
              "      <td>...</td>\n",
              "      <td>...</td>\n",
              "    </tr>\n",
              "    <tr>\n",
              "      <th>201</th>\n",
              "      <td>GG</td>\n",
              "      <td>2020-03-17 18:33:03</td>\n",
              "      <td>0</td>\n",
              "      <td>0</td>\n",
              "      <td>0</td>\n",
              "    </tr>\n",
              "    <tr>\n",
              "      <th>202</th>\n",
              "      <td>GL</td>\n",
              "      <td>2020-03-19 09:33:04</td>\n",
              "      <td>0</td>\n",
              "      <td>0</td>\n",
              "      <td>0</td>\n",
              "    </tr>\n",
              "    <tr>\n",
              "      <th>203</th>\n",
              "      <td>GU</td>\n",
              "      <td>2020-03-18 19:14:33</td>\n",
              "      <td>0</td>\n",
              "      <td>0</td>\n",
              "      <td>0</td>\n",
              "    </tr>\n",
              "    <tr>\n",
              "      <th>204</th>\n",
              "      <td>JE</td>\n",
              "      <td>2020-03-17 18:33:03</td>\n",
              "      <td>0</td>\n",
              "      <td>0</td>\n",
              "      <td>0</td>\n",
              "    </tr>\n",
              "    <tr>\n",
              "      <th>205</th>\n",
              "      <td>PR</td>\n",
              "      <td>2020-03-17 16:13:14</td>\n",
              "      <td>0</td>\n",
              "      <td>0</td>\n",
              "      <td>0</td>\n",
              "    </tr>\n",
              "  </tbody>\n",
              "</table>\n",
              "<p>206 rows × 5 columns</p>\n",
              "</div>"
            ],
            "text/plain": [
              "    country         last_update    cases  deaths  recovered\n",
              "0        US 2020-08-16 23:27:50  5401167  170019    1833067\n",
              "1        BR 2020-08-16 23:27:50  3340197  107852    2655017\n",
              "2        IN 2020-08-16 23:27:50  2589682   49980    1862258\n",
              "3        RU 2020-08-16 23:27:50   920719   15653     731444\n",
              "4        ZA 2020-08-16 23:27:50   587345   11839     472377\n",
              "..      ...                 ...      ...     ...        ...\n",
              "201      GG 2020-03-17 18:33:03        0       0          0\n",
              "202      GL 2020-03-19 09:33:04        0       0          0\n",
              "203      GU 2020-03-18 19:14:33        0       0          0\n",
              "204      JE 2020-03-17 18:33:03        0       0          0\n",
              "205      PR 2020-03-17 16:13:14        0       0          0\n",
              "\n",
              "[206 rows x 5 columns]"
            ]
          },
          "metadata": {
            "tags": []
          },
          "execution_count": 5
        }
      ]
    },
    {
      "cell_type": "code",
      "metadata": {
        "colab": {
          "base_uri": "https://localhost:8080/"
        },
        "id": "4c11ScnrKJTU",
        "outputId": "f780894b-731c-4382-911c-41681ca26d14"
      },
      "source": [
        "countries_url = 'https://covid19-api.org/api/countries'\n",
        "df_countries = pd.io.json.json_normalize(get_json(countries_url))\n",
        "df_countries = df_countries.rename(columns={'alpha2': 'country'})[['name','country']]\n",
        "\n",
        "print(df_countries.head())"
      ],
      "execution_count": 6,
      "outputs": [
        {
          "output_type": "stream",
          "text": [
            "          name country\n",
            "0  Afghanistan      AF\n",
            "1      Albania      AL\n",
            "2      Algeria      DZ\n",
            "3      Andorra      AD\n",
            "4       Angola      AO\n"
          ],
          "name": "stdout"
        },
        {
          "output_type": "stream",
          "text": [
            "/usr/local/lib/python3.6/dist-packages/ipykernel_launcher.py:2: FutureWarning: pandas.io.json.json_normalize is deprecated, use pandas.json_normalize instead\n",
            "  \n"
          ],
          "name": "stderr"
        }
      ]
    },
    {
      "cell_type": "code",
      "metadata": {
        "colab": {
          "base_uri": "https://localhost:8080/"
        },
        "id": "UHBYP0s-KhAZ",
        "outputId": "0c608b6a-2f1d-453a-c5a8-7f33dd7d941a"
      },
      "source": [
        "df_covid_denormalized = pd.merge(df_covid_worldwide, df_countries, on='country')\n",
        "\n",
        "print(df_covid_denormalized.head())"
      ],
      "execution_count": 7,
      "outputs": [
        {
          "output_type": "stream",
          "text": [
            "  country         last_update  ...  recovered                      name\n",
            "0      US 2020-08-16 23:27:50  ...    1833067  United States of America\n",
            "1      BR 2020-08-16 23:27:50  ...    2655017                    Brazil\n",
            "2      IN 2020-08-16 23:27:50  ...    1862258                     India\n",
            "3      RU 2020-08-16 23:27:50  ...     731444        Russian Federation\n",
            "4      ZA 2020-08-16 23:27:50  ...     472377              South Africa\n",
            "\n",
            "[5 rows x 6 columns]\n"
          ],
          "name": "stdout"
        }
      ]
    },
    {
      "cell_type": "markdown",
      "metadata": {
        "id": "FQGKuiTUuaX5"
      },
      "source": [
        "Create 'fatality_ratio' column using 'deaths' column divided by column 'cases'."
      ]
    },
    {
      "cell_type": "code",
      "metadata": {
        "id": "RFcgJddbO1Rq"
      },
      "source": [
        "df_covid_denormalized['fatality_ratio'] = df_covid_denormalized['deaths']/df_covid_denormalized['cases']"
      ],
      "execution_count": 8,
      "outputs": []
    },
    {
      "cell_type": "code",
      "metadata": {
        "id": "m3hLLcvkUtvb"
      },
      "source": [
        "df_top_20_fatality_rate = df_covid_denormalized.sort_values(by='fatality_ratio', ascending=False).head(20)"
      ],
      "execution_count": 9,
      "outputs": []
    },
    {
      "cell_type": "markdown",
      "metadata": {
        "id": "kaLv-CTcu1Kx"
      },
      "source": [
        "# Visualization I\r\n",
        "Visualize top 20 highest fatality rate countries."
      ]
    },
    {
      "cell_type": "code",
      "metadata": {
        "colab": {
          "base_uri": "https://localhost:8080/",
          "height": 510
        },
        "id": "d5D4BC0dUkKL",
        "outputId": "03962832-60a9-48a0-9b73-c878a5b1ba3f"
      },
      "source": [
        "import matplotlib.pyplot as plt\n",
        "plt.figure(figsize=(20, 8))\n",
        "x = df_top_20_fatality_rate['name']\n",
        "y = df_top_20_fatality_rate['fatality_ratio']\n",
        "plt.bar(x,y)\n",
        "plt.xlabel('Country Name')\n",
        "plt.ylabel('Fatality Rate')\n",
        "plt.title('Top 20 Highest Fatality Rate Countries')\n",
        "plt.xticks(rotation=90)\n",
        "plt.tight_layout()"
      ],
      "execution_count": 10,
      "outputs": [
        {
          "output_type": "display_data",
          "data": {
            "image/png": "[encoded data removed]",
            "text/plain": [
              "<Figure size 1440x576 with 1 Axes>"
            ]
          },
          "metadata": {
            "tags": [],
            "needs_background": "light"
          }
        }
      ]
    },
    {
      "cell_type": "markdown",
      "metadata": {
        "id": "549nnNZWvP2q"
      },
      "source": [
        "# Data Preparation II\r\n",
        "prepare data from Indonesia and 4 other southeast asia country."
      ]
    },
    {
      "cell_type": "code",
      "metadata": {
        "colab": {
          "base_uri": "https://localhost:8080/"
        },
        "id": "bjQDRIpoVGNr",
        "outputId": "06c5527a-3a73-479f-d16e-11c8a10fa9c7"
      },
      "source": [
        "countries = ['ID','MY','SG','TH','VN']\n",
        "i = 0\n",
        "for country in countries:\n",
        "\tcovid_timeline_url = 'https://covid19-api.org/api/timeline/'+country\n",
        "\tdf_covid_timeline = pd.io.json.json_normalize(get_json(covid_timeline_url))\n",
        "\tdf_covid_timeline['last_update'] = pd.to_datetime(df_covid_timeline['last_update'], format='%Y-%m-%dT%H:%M:%S')\n",
        "\tdf_covid_timeline['last_update'] = df_covid_timeline['last_update'].apply(lambda x: x.date())\n",
        "\tif i==0:\n",
        "\t\tdf_covid_timeline_merged = df_covid_timeline\n",
        "\telse:\n",
        "\t\tdf_covid_timeline_merged = df_covid_timeline.append(df_covid_timeline_merged, ignore_index=True)\n",
        "\ti=i+1\n",
        "\n",
        "print(df_covid_timeline_merged.head())"
      ],
      "execution_count": 11,
      "outputs": [
        {
          "output_type": "stream",
          "text": [
            "/usr/local/lib/python3.6/dist-packages/ipykernel_launcher.py:5: FutureWarning: pandas.io.json.json_normalize is deprecated, use pandas.json_normalize instead\n",
            "  \"\"\"\n"
          ],
          "name": "stderr"
        },
        {
          "output_type": "stream",
          "text": [
            "  country last_update  cases  deaths  recovered\n",
            "0      VN  2020-12-16   1405      35       1252\n",
            "1      VN  2020-12-15   1405      35       1252\n",
            "2      VN  2020-12-14   1402      35       1246\n",
            "3      VN  2020-12-13   1397      35       1241\n",
            "4      VN  2020-12-12   1395      35       1238\n"
          ],
          "name": "stdout"
        }
      ]
    },
    {
      "cell_type": "code",
      "metadata": {
        "colab": {
          "base_uri": "https://localhost:8080/",
          "height": 419
        },
        "id": "XK1SrkzflmgM",
        "outputId": "acc9ea7c-4b2d-4369-d2f8-3e1783edbb3b"
      },
      "source": [
        "df_covid_timeline_merged"
      ],
      "execution_count": 21,
      "outputs": [
        {
          "output_type": "execute_result",
          "data": {
            "text/html": [
              "<div>\n",
              "<style scoped>\n",
              "    .dataframe tbody tr th:only-of-type {\n",
              "        vertical-align: middle;\n",
              "    }\n",
              "\n",
              "    .dataframe tbody tr th {\n",
              "        vertical-align: top;\n",
              "    }\n",
              "\n",
              "    .dataframe thead th {\n",
              "        text-align: right;\n",
              "    }\n",
              "</style>\n",
              "<table border=\"1\" class=\"dataframe\">\n",
              "  <thead>\n",
              "    <tr style=\"text-align: right;\">\n",
              "      <th></th>\n",
              "      <th>country</th>\n",
              "      <th>last_update</th>\n",
              "      <th>cases</th>\n",
              "      <th>deaths</th>\n",
              "      <th>recovered</th>\n",
              "    </tr>\n",
              "  </thead>\n",
              "  <tbody>\n",
              "    <tr>\n",
              "      <th>0</th>\n",
              "      <td>VN</td>\n",
              "      <td>2020-12-16</td>\n",
              "      <td>1405</td>\n",
              "      <td>35</td>\n",
              "      <td>1252</td>\n",
              "    </tr>\n",
              "    <tr>\n",
              "      <th>1</th>\n",
              "      <td>VN</td>\n",
              "      <td>2020-12-15</td>\n",
              "      <td>1405</td>\n",
              "      <td>35</td>\n",
              "      <td>1252</td>\n",
              "    </tr>\n",
              "    <tr>\n",
              "      <th>2</th>\n",
              "      <td>VN</td>\n",
              "      <td>2020-12-14</td>\n",
              "      <td>1402</td>\n",
              "      <td>35</td>\n",
              "      <td>1246</td>\n",
              "    </tr>\n",
              "    <tr>\n",
              "      <th>3</th>\n",
              "      <td>VN</td>\n",
              "      <td>2020-12-13</td>\n",
              "      <td>1397</td>\n",
              "      <td>35</td>\n",
              "      <td>1241</td>\n",
              "    </tr>\n",
              "    <tr>\n",
              "      <th>4</th>\n",
              "      <td>VN</td>\n",
              "      <td>2020-12-12</td>\n",
              "      <td>1395</td>\n",
              "      <td>35</td>\n",
              "      <td>1238</td>\n",
              "    </tr>\n",
              "    <tr>\n",
              "      <th>...</th>\n",
              "      <td>...</td>\n",
              "      <td>...</td>\n",
              "      <td>...</td>\n",
              "      <td>...</td>\n",
              "      <td>...</td>\n",
              "    </tr>\n",
              "    <tr>\n",
              "      <th>1523</th>\n",
              "      <td>ID</td>\n",
              "      <td>2020-03-10</td>\n",
              "      <td>27</td>\n",
              "      <td>0</td>\n",
              "      <td>2</td>\n",
              "    </tr>\n",
              "    <tr>\n",
              "      <th>1524</th>\n",
              "      <td>ID</td>\n",
              "      <td>2020-03-09</td>\n",
              "      <td>19</td>\n",
              "      <td>0</td>\n",
              "      <td>0</td>\n",
              "    </tr>\n",
              "    <tr>\n",
              "      <th>1525</th>\n",
              "      <td>ID</td>\n",
              "      <td>2020-03-08</td>\n",
              "      <td>6</td>\n",
              "      <td>0</td>\n",
              "      <td>0</td>\n",
              "    </tr>\n",
              "    <tr>\n",
              "      <th>1526</th>\n",
              "      <td>ID</td>\n",
              "      <td>2020-03-06</td>\n",
              "      <td>4</td>\n",
              "      <td>0</td>\n",
              "      <td>0</td>\n",
              "    </tr>\n",
              "    <tr>\n",
              "      <th>1527</th>\n",
              "      <td>ID</td>\n",
              "      <td>2020-03-02</td>\n",
              "      <td>2</td>\n",
              "      <td>0</td>\n",
              "      <td>0</td>\n",
              "    </tr>\n",
              "  </tbody>\n",
              "</table>\n",
              "<p>1528 rows × 5 columns</p>\n",
              "</div>"
            ],
            "text/plain": [
              "     country last_update  cases  deaths  recovered\n",
              "0         VN  2020-12-16   1405      35       1252\n",
              "1         VN  2020-12-15   1405      35       1252\n",
              "2         VN  2020-12-14   1402      35       1246\n",
              "3         VN  2020-12-13   1397      35       1241\n",
              "4         VN  2020-12-12   1395      35       1238\n",
              "...      ...         ...    ...     ...        ...\n",
              "1523      ID  2020-03-10     27       0          2\n",
              "1524      ID  2020-03-09     19       0          0\n",
              "1525      ID  2020-03-08      6       0          0\n",
              "1526      ID  2020-03-06      4       0          0\n",
              "1527      ID  2020-03-02      2       0          0\n",
              "\n",
              "[1528 rows x 5 columns]"
            ]
          },
          "metadata": {
            "tags": []
          },
          "execution_count": 21
        }
      ]
    },
    {
      "cell_type": "markdown",
      "metadata": {
        "id": "e1UPofZPjS-c"
      },
      "source": [
        "The 'df_covid_timeline' merged with df countries with the country column as the pivot."
      ]
    },
    {
      "cell_type": "code",
      "metadata": {
        "id": "_PSuao-tiu_X"
      },
      "source": [
        "\r\n",
        "df_covid_timeline_denormalized = pd.merge(df_covid_timeline_merged, df_countries, on='country')"
      ],
      "execution_count": 12,
      "outputs": []
    },
    {
      "cell_type": "code",
      "metadata": {
        "id": "kxTHMtO7i5hO"
      },
      "source": [
        "import datetime\r\n",
        "df_covid_timeline_denormalized = df_covid_timeline_denormalized[(df_covid_timeline_denormalized['last_update'] >= datetime.date(2020, 3, 1))]"
      ],
      "execution_count": 13,
      "outputs": []
    },
    {
      "cell_type": "markdown",
      "metadata": {
        "id": "1vl-u9rsjJYH"
      },
      "source": [
        "# Visualization II\r\n",
        "\r\n",
        "Compare total cases COVID 19 in indonesia against 4 other country in southeast asia."
      ]
    },
    {
      "cell_type": "code",
      "metadata": {
        "colab": {
          "base_uri": "https://localhost:8080/",
          "height": 295
        },
        "id": "e_leXW-mjIsl",
        "outputId": "70c618c1-d419-433a-b851-4834afd26878"
      },
      "source": [
        "\r\n",
        "import matplotlib.pyplot as plt\r\n",
        "plt.clf()\r\n",
        "countries = ['ID','MY','SG','TH','VN']\r\n",
        "for country in countries:\r\n",
        "  country_data = df_covid_timeline_denormalized['country']==country\r\n",
        "  x = df_covid_timeline_denormalized[country_data]['last_update']\r\n",
        "  y = df_covid_timeline_denormalized[country_data]['cases']\r\n",
        "  plt.plot(x, y, label = country)\r\n",
        "\r\n",
        "plt.legend()\r\n",
        "plt.xlabel('Record Date')\r\n",
        "plt.ylabel('Total Cases')\r\n",
        "plt.title('Asean Covid19 Cases Comparison')\r\n",
        "plt.show()"
      ],
      "execution_count": 19,
      "outputs": [
        {
          "output_type": "display_data",
          "data": {
            "image/png": "[encoded data removed]",
            "text/plain": [
              "<Figure size 432x288 with 1 Axes>"
            ]
          },
          "metadata": {
            "tags": [],
            "needs_background": "light"
          }
        }
      ]
    }
  ]
}